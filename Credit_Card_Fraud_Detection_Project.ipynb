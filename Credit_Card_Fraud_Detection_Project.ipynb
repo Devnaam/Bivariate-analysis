{
  "nbformat": 4,
  "nbformat_minor": 0,
  "metadata": {
    "colab": {
      "provenance": [],
      "authorship_tag": "ABX9TyNOdU2PW1N83Jw/L5xoYNni",
      "include_colab_link": true
    },
    "kernelspec": {
      "name": "python3",
      "display_name": "Python 3"
    },
    "language_info": {
      "name": "python"
    }
  },
  "cells": [
    {
      "cell_type": "markdown",
      "metadata": {
        "id": "view-in-github",
        "colab_type": "text"
      },
      "source": [
        "<a href=\"https://colab.research.google.com/github/Devnaam/Bivariate-analysis/blob/main/Credit_Card_Fraud_Detection_Project.ipynb\" target=\"_parent\"><img src=\"https://colab.research.google.com/assets/colab-badge.svg\" alt=\"Open In Colab\"/></a>"
      ]
    },
    {
      "cell_type": "code",
      "execution_count": 1,
      "metadata": {
        "id": "ieJJpqgjzD50"
      },
      "outputs": [],
      "source": [
        "import pandas as pd\n",
        "import numpy as np\n",
        "import matplotlib.pyplot as plt\n",
        "import seaborn as sns\n",
        "%matplotlib inline"
      ]
    },
    {
      "cell_type": "code",
      "source": [
        "# Load the dataset from the uploaded CSV file\n",
        "df = pd.read_csv('creditcard.csv')\n",
        "\n",
        "# Display the first 5 rows to make sure it loaded correctly\n",
        "df.head()"
      ],
      "metadata": {
        "colab": {
          "base_uri": "https://localhost:8080/",
          "height": 256
        },
        "id": "js4N7749zKud",
        "outputId": "301b6b9a-ff99-4466-b145-cdfc1e3cf83b"
      },
      "execution_count": 2,
      "outputs": [
        {
          "output_type": "execute_result",
          "data": {
            "text/plain": [
              "   Time        V1        V2        V3        V4        V5        V6        V7  \\\n",
              "0     0 -1.359807 -0.072781  2.536347  1.378155 -0.338321  0.462388  0.239599   \n",
              "1     0  1.191857  0.266151  0.166480  0.448154  0.060018 -0.082361 -0.078803   \n",
              "2     1 -1.358354 -1.340163  1.773209  0.379780 -0.503198  1.800499  0.791461   \n",
              "3     1 -0.966272 -0.185226  1.792993 -0.863291 -0.010309  1.247203  0.237609   \n",
              "4     2 -1.158233  0.877737  1.548718  0.403034 -0.407193  0.095921  0.592941   \n",
              "\n",
              "         V8        V9  ...       V21       V22       V23       V24       V25  \\\n",
              "0  0.098698  0.363787  ... -0.018307  0.277838 -0.110474  0.066928  0.128539   \n",
              "1  0.085102 -0.255425  ... -0.225775 -0.638672  0.101288 -0.339846  0.167170   \n",
              "2  0.247676 -1.514654  ...  0.247998  0.771679  0.909412 -0.689281 -0.327642   \n",
              "3  0.377436 -1.387024  ... -0.108300  0.005274 -0.190321 -1.175575  0.647376   \n",
              "4 -0.270533  0.817739  ... -0.009431  0.798278 -0.137458  0.141267 -0.206010   \n",
              "\n",
              "        V26       V27       V28  Amount  Class  \n",
              "0 -0.189115  0.133558 -0.021053  149.62    0.0  \n",
              "1  0.125895 -0.008983  0.014724    2.69    0.0  \n",
              "2 -0.139097 -0.055353 -0.059752  378.66    0.0  \n",
              "3 -0.221929  0.062723  0.061458  123.50    0.0  \n",
              "4  0.502292  0.219422  0.215153   69.99    0.0  \n",
              "\n",
              "[5 rows x 31 columns]"
            ],
            "text/html": [
              "\n",
              "  <div id=\"df-2201b0c2-ee05-4844-9497-1b924e26ca78\" class=\"colab-df-container\">\n",
              "    <div>\n",
              "<style scoped>\n",
              "    .dataframe tbody tr th:only-of-type {\n",
              "        vertical-align: middle;\n",
              "    }\n",
              "\n",
              "    .dataframe tbody tr th {\n",
              "        vertical-align: top;\n",
              "    }\n",
              "\n",
              "    .dataframe thead th {\n",
              "        text-align: right;\n",
              "    }\n",
              "</style>\n",
              "<table border=\"1\" class=\"dataframe\">\n",
              "  <thead>\n",
              "    <tr style=\"text-align: right;\">\n",
              "      <th></th>\n",
              "      <th>Time</th>\n",
              "      <th>V1</th>\n",
              "      <th>V2</th>\n",
              "      <th>V3</th>\n",
              "      <th>V4</th>\n",
              "      <th>V5</th>\n",
              "      <th>V6</th>\n",
              "      <th>V7</th>\n",
              "      <th>V8</th>\n",
              "      <th>V9</th>\n",
              "      <th>...</th>\n",
              "      <th>V21</th>\n",
              "      <th>V22</th>\n",
              "      <th>V23</th>\n",
              "      <th>V24</th>\n",
              "      <th>V25</th>\n",
              "      <th>V26</th>\n",
              "      <th>V27</th>\n",
              "      <th>V28</th>\n",
              "      <th>Amount</th>\n",
              "      <th>Class</th>\n",
              "    </tr>\n",
              "  </thead>\n",
              "  <tbody>\n",
              "    <tr>\n",
              "      <th>0</th>\n",
              "      <td>0</td>\n",
              "      <td>-1.359807</td>\n",
              "      <td>-0.072781</td>\n",
              "      <td>2.536347</td>\n",
              "      <td>1.378155</td>\n",
              "      <td>-0.338321</td>\n",
              "      <td>0.462388</td>\n",
              "      <td>0.239599</td>\n",
              "      <td>0.098698</td>\n",
              "      <td>0.363787</td>\n",
              "      <td>...</td>\n",
              "      <td>-0.018307</td>\n",
              "      <td>0.277838</td>\n",
              "      <td>-0.110474</td>\n",
              "      <td>0.066928</td>\n",
              "      <td>0.128539</td>\n",
              "      <td>-0.189115</td>\n",
              "      <td>0.133558</td>\n",
              "      <td>-0.021053</td>\n",
              "      <td>149.62</td>\n",
              "      <td>0.0</td>\n",
              "    </tr>\n",
              "    <tr>\n",
              "      <th>1</th>\n",
              "      <td>0</td>\n",
              "      <td>1.191857</td>\n",
              "      <td>0.266151</td>\n",
              "      <td>0.166480</td>\n",
              "      <td>0.448154</td>\n",
              "      <td>0.060018</td>\n",
              "      <td>-0.082361</td>\n",
              "      <td>-0.078803</td>\n",
              "      <td>0.085102</td>\n",
              "      <td>-0.255425</td>\n",
              "      <td>...</td>\n",
              "      <td>-0.225775</td>\n",
              "      <td>-0.638672</td>\n",
              "      <td>0.101288</td>\n",
              "      <td>-0.339846</td>\n",
              "      <td>0.167170</td>\n",
              "      <td>0.125895</td>\n",
              "      <td>-0.008983</td>\n",
              "      <td>0.014724</td>\n",
              "      <td>2.69</td>\n",
              "      <td>0.0</td>\n",
              "    </tr>\n",
              "    <tr>\n",
              "      <th>2</th>\n",
              "      <td>1</td>\n",
              "      <td>-1.358354</td>\n",
              "      <td>-1.340163</td>\n",
              "      <td>1.773209</td>\n",
              "      <td>0.379780</td>\n",
              "      <td>-0.503198</td>\n",
              "      <td>1.800499</td>\n",
              "      <td>0.791461</td>\n",
              "      <td>0.247676</td>\n",
              "      <td>-1.514654</td>\n",
              "      <td>...</td>\n",
              "      <td>0.247998</td>\n",
              "      <td>0.771679</td>\n",
              "      <td>0.909412</td>\n",
              "      <td>-0.689281</td>\n",
              "      <td>-0.327642</td>\n",
              "      <td>-0.139097</td>\n",
              "      <td>-0.055353</td>\n",
              "      <td>-0.059752</td>\n",
              "      <td>378.66</td>\n",
              "      <td>0.0</td>\n",
              "    </tr>\n",
              "    <tr>\n",
              "      <th>3</th>\n",
              "      <td>1</td>\n",
              "      <td>-0.966272</td>\n",
              "      <td>-0.185226</td>\n",
              "      <td>1.792993</td>\n",
              "      <td>-0.863291</td>\n",
              "      <td>-0.010309</td>\n",
              "      <td>1.247203</td>\n",
              "      <td>0.237609</td>\n",
              "      <td>0.377436</td>\n",
              "      <td>-1.387024</td>\n",
              "      <td>...</td>\n",
              "      <td>-0.108300</td>\n",
              "      <td>0.005274</td>\n",
              "      <td>-0.190321</td>\n",
              "      <td>-1.175575</td>\n",
              "      <td>0.647376</td>\n",
              "      <td>-0.221929</td>\n",
              "      <td>0.062723</td>\n",
              "      <td>0.061458</td>\n",
              "      <td>123.50</td>\n",
              "      <td>0.0</td>\n",
              "    </tr>\n",
              "    <tr>\n",
              "      <th>4</th>\n",
              "      <td>2</td>\n",
              "      <td>-1.158233</td>\n",
              "      <td>0.877737</td>\n",
              "      <td>1.548718</td>\n",
              "      <td>0.403034</td>\n",
              "      <td>-0.407193</td>\n",
              "      <td>0.095921</td>\n",
              "      <td>0.592941</td>\n",
              "      <td>-0.270533</td>\n",
              "      <td>0.817739</td>\n",
              "      <td>...</td>\n",
              "      <td>-0.009431</td>\n",
              "      <td>0.798278</td>\n",
              "      <td>-0.137458</td>\n",
              "      <td>0.141267</td>\n",
              "      <td>-0.206010</td>\n",
              "      <td>0.502292</td>\n",
              "      <td>0.219422</td>\n",
              "      <td>0.215153</td>\n",
              "      <td>69.99</td>\n",
              "      <td>0.0</td>\n",
              "    </tr>\n",
              "  </tbody>\n",
              "</table>\n",
              "<p>5 rows × 31 columns</p>\n",
              "</div>\n",
              "    <div class=\"colab-df-buttons\">\n",
              "\n",
              "  <div class=\"colab-df-container\">\n",
              "    <button class=\"colab-df-convert\" onclick=\"convertToInteractive('df-2201b0c2-ee05-4844-9497-1b924e26ca78')\"\n",
              "            title=\"Convert this dataframe to an interactive table.\"\n",
              "            style=\"display:none;\">\n",
              "\n",
              "  <svg xmlns=\"http://www.w3.org/2000/svg\" height=\"24px\" viewBox=\"0 -960 960 960\">\n",
              "    <path d=\"M120-120v-720h720v720H120Zm60-500h600v-160H180v160Zm220 220h160v-160H400v160Zm0 220h160v-160H400v160ZM180-400h160v-160H180v160Zm440 0h160v-160H620v160ZM180-180h160v-160H180v160Zm440 0h160v-160H620v160Z\"/>\n",
              "  </svg>\n",
              "    </button>\n",
              "\n",
              "  <style>\n",
              "    .colab-df-container {\n",
              "      display:flex;\n",
              "      gap: 12px;\n",
              "    }\n",
              "\n",
              "    .colab-df-convert {\n",
              "      background-color: #E8F0FE;\n",
              "      border: none;\n",
              "      border-radius: 50%;\n",
              "      cursor: pointer;\n",
              "      display: none;\n",
              "      fill: #1967D2;\n",
              "      height: 32px;\n",
              "      padding: 0 0 0 0;\n",
              "      width: 32px;\n",
              "    }\n",
              "\n",
              "    .colab-df-convert:hover {\n",
              "      background-color: #E2EBFA;\n",
              "      box-shadow: 0px 1px 2px rgba(60, 64, 67, 0.3), 0px 1px 3px 1px rgba(60, 64, 67, 0.15);\n",
              "      fill: #174EA6;\n",
              "    }\n",
              "\n",
              "    .colab-df-buttons div {\n",
              "      margin-bottom: 4px;\n",
              "    }\n",
              "\n",
              "    [theme=dark] .colab-df-convert {\n",
              "      background-color: #3B4455;\n",
              "      fill: #D2E3FC;\n",
              "    }\n",
              "\n",
              "    [theme=dark] .colab-df-convert:hover {\n",
              "      background-color: #434B5C;\n",
              "      box-shadow: 0px 1px 3px 1px rgba(0, 0, 0, 0.15);\n",
              "      filter: drop-shadow(0px 1px 2px rgba(0, 0, 0, 0.3));\n",
              "      fill: #FFFFFF;\n",
              "    }\n",
              "  </style>\n",
              "\n",
              "    <script>\n",
              "      const buttonEl =\n",
              "        document.querySelector('#df-2201b0c2-ee05-4844-9497-1b924e26ca78 button.colab-df-convert');\n",
              "      buttonEl.style.display =\n",
              "        google.colab.kernel.accessAllowed ? 'block' : 'none';\n",
              "\n",
              "      async function convertToInteractive(key) {\n",
              "        const element = document.querySelector('#df-2201b0c2-ee05-4844-9497-1b924e26ca78');\n",
              "        const dataTable =\n",
              "          await google.colab.kernel.invokeFunction('convertToInteractive',\n",
              "                                                    [key], {});\n",
              "        if (!dataTable) return;\n",
              "\n",
              "        const docLinkHtml = 'Like what you see? Visit the ' +\n",
              "          '<a target=\"_blank\" href=https://colab.research.google.com/notebooks/data_table.ipynb>data table notebook</a>'\n",
              "          + ' to learn more about interactive tables.';\n",
              "        element.innerHTML = '';\n",
              "        dataTable['output_type'] = 'display_data';\n",
              "        await google.colab.output.renderOutput(dataTable, element);\n",
              "        const docLink = document.createElement('div');\n",
              "        docLink.innerHTML = docLinkHtml;\n",
              "        element.appendChild(docLink);\n",
              "      }\n",
              "    </script>\n",
              "  </div>\n",
              "\n",
              "\n",
              "    <div id=\"df-c13e6f69-b406-4430-b479-8c437ab545dd\">\n",
              "      <button class=\"colab-df-quickchart\" onclick=\"quickchart('df-c13e6f69-b406-4430-b479-8c437ab545dd')\"\n",
              "                title=\"Suggest charts\"\n",
              "                style=\"display:none;\">\n",
              "\n",
              "<svg xmlns=\"http://www.w3.org/2000/svg\" height=\"24px\"viewBox=\"0 0 24 24\"\n",
              "     width=\"24px\">\n",
              "    <g>\n",
              "        <path d=\"M19 3H5c-1.1 0-2 .9-2 2v14c0 1.1.9 2 2 2h14c1.1 0 2-.9 2-2V5c0-1.1-.9-2-2-2zM9 17H7v-7h2v7zm4 0h-2V7h2v10zm4 0h-2v-4h2v4z\"/>\n",
              "    </g>\n",
              "</svg>\n",
              "      </button>\n",
              "\n",
              "<style>\n",
              "  .colab-df-quickchart {\n",
              "      --bg-color: #E8F0FE;\n",
              "      --fill-color: #1967D2;\n",
              "      --hover-bg-color: #E2EBFA;\n",
              "      --hover-fill-color: #174EA6;\n",
              "      --disabled-fill-color: #AAA;\n",
              "      --disabled-bg-color: #DDD;\n",
              "  }\n",
              "\n",
              "  [theme=dark] .colab-df-quickchart {\n",
              "      --bg-color: #3B4455;\n",
              "      --fill-color: #D2E3FC;\n",
              "      --hover-bg-color: #434B5C;\n",
              "      --hover-fill-color: #FFFFFF;\n",
              "      --disabled-bg-color: #3B4455;\n",
              "      --disabled-fill-color: #666;\n",
              "  }\n",
              "\n",
              "  .colab-df-quickchart {\n",
              "    background-color: var(--bg-color);\n",
              "    border: none;\n",
              "    border-radius: 50%;\n",
              "    cursor: pointer;\n",
              "    display: none;\n",
              "    fill: var(--fill-color);\n",
              "    height: 32px;\n",
              "    padding: 0;\n",
              "    width: 32px;\n",
              "  }\n",
              "\n",
              "  .colab-df-quickchart:hover {\n",
              "    background-color: var(--hover-bg-color);\n",
              "    box-shadow: 0 1px 2px rgba(60, 64, 67, 0.3), 0 1px 3px 1px rgba(60, 64, 67, 0.15);\n",
              "    fill: var(--button-hover-fill-color);\n",
              "  }\n",
              "\n",
              "  .colab-df-quickchart-complete:disabled,\n",
              "  .colab-df-quickchart-complete:disabled:hover {\n",
              "    background-color: var(--disabled-bg-color);\n",
              "    fill: var(--disabled-fill-color);\n",
              "    box-shadow: none;\n",
              "  }\n",
              "\n",
              "  .colab-df-spinner {\n",
              "    border: 2px solid var(--fill-color);\n",
              "    border-color: transparent;\n",
              "    border-bottom-color: var(--fill-color);\n",
              "    animation:\n",
              "      spin 1s steps(1) infinite;\n",
              "  }\n",
              "\n",
              "  @keyframes spin {\n",
              "    0% {\n",
              "      border-color: transparent;\n",
              "      border-bottom-color: var(--fill-color);\n",
              "      border-left-color: var(--fill-color);\n",
              "    }\n",
              "    20% {\n",
              "      border-color: transparent;\n",
              "      border-left-color: var(--fill-color);\n",
              "      border-top-color: var(--fill-color);\n",
              "    }\n",
              "    30% {\n",
              "      border-color: transparent;\n",
              "      border-left-color: var(--fill-color);\n",
              "      border-top-color: var(--fill-color);\n",
              "      border-right-color: var(--fill-color);\n",
              "    }\n",
              "    40% {\n",
              "      border-color: transparent;\n",
              "      border-right-color: var(--fill-color);\n",
              "      border-top-color: var(--fill-color);\n",
              "    }\n",
              "    60% {\n",
              "      border-color: transparent;\n",
              "      border-right-color: var(--fill-color);\n",
              "    }\n",
              "    80% {\n",
              "      border-color: transparent;\n",
              "      border-right-color: var(--fill-color);\n",
              "      border-bottom-color: var(--fill-color);\n",
              "    }\n",
              "    90% {\n",
              "      border-color: transparent;\n",
              "      border-bottom-color: var(--fill-color);\n",
              "    }\n",
              "  }\n",
              "</style>\n",
              "\n",
              "      <script>\n",
              "        async function quickchart(key) {\n",
              "          const quickchartButtonEl =\n",
              "            document.querySelector('#' + key + ' button');\n",
              "          quickchartButtonEl.disabled = true;  // To prevent multiple clicks.\n",
              "          quickchartButtonEl.classList.add('colab-df-spinner');\n",
              "          try {\n",
              "            const charts = await google.colab.kernel.invokeFunction(\n",
              "                'suggestCharts', [key], {});\n",
              "          } catch (error) {\n",
              "            console.error('Error during call to suggestCharts:', error);\n",
              "          }\n",
              "          quickchartButtonEl.classList.remove('colab-df-spinner');\n",
              "          quickchartButtonEl.classList.add('colab-df-quickchart-complete');\n",
              "        }\n",
              "        (() => {\n",
              "          let quickchartButtonEl =\n",
              "            document.querySelector('#df-c13e6f69-b406-4430-b479-8c437ab545dd button');\n",
              "          quickchartButtonEl.style.display =\n",
              "            google.colab.kernel.accessAllowed ? 'block' : 'none';\n",
              "        })();\n",
              "      </script>\n",
              "    </div>\n",
              "\n",
              "    </div>\n",
              "  </div>\n"
            ],
            "application/vnd.google.colaboratory.intrinsic+json": {
              "type": "dataframe",
              "variable_name": "df"
            }
          },
          "metadata": {},
          "execution_count": 2
        }
      ]
    },
    {
      "cell_type": "code",
      "source": [
        "# Get a summary of the DataFrame\n",
        "print(\"\\n--- DataFrame Information ---\")\n",
        "df.info()\n"
      ],
      "metadata": {
        "colab": {
          "base_uri": "https://localhost:8080/"
        },
        "id": "aZoqM1Vf0A_H",
        "outputId": "2ed3850c-605d-4bbe-8654-4ad8c46f8945"
      },
      "execution_count": 3,
      "outputs": [
        {
          "output_type": "stream",
          "name": "stdout",
          "text": [
            "\n",
            "--- DataFrame Information ---\n",
            "<class 'pandas.core.frame.DataFrame'>\n",
            "RangeIndex: 51591 entries, 0 to 51590\n",
            "Data columns (total 31 columns):\n",
            " #   Column  Non-Null Count  Dtype  \n",
            "---  ------  --------------  -----  \n",
            " 0   Time    51591 non-null  int64  \n",
            " 1   V1      51591 non-null  float64\n",
            " 2   V2      51591 non-null  float64\n",
            " 3   V3      51591 non-null  float64\n",
            " 4   V4      51591 non-null  float64\n",
            " 5   V5      51591 non-null  float64\n",
            " 6   V6      51591 non-null  float64\n",
            " 7   V7      51591 non-null  float64\n",
            " 8   V8      51591 non-null  float64\n",
            " 9   V9      51591 non-null  float64\n",
            " 10  V10     51591 non-null  float64\n",
            " 11  V11     51590 non-null  float64\n",
            " 12  V12     51590 non-null  float64\n",
            " 13  V13     51590 non-null  float64\n",
            " 14  V14     51590 non-null  float64\n",
            " 15  V15     51590 non-null  float64\n",
            " 16  V16     51590 non-null  float64\n",
            " 17  V17     51590 non-null  float64\n",
            " 18  V18     51590 non-null  float64\n",
            " 19  V19     51590 non-null  float64\n",
            " 20  V20     51590 non-null  float64\n",
            " 21  V21     51590 non-null  float64\n",
            " 22  V22     51590 non-null  float64\n",
            " 23  V23     51590 non-null  float64\n",
            " 24  V24     51590 non-null  float64\n",
            " 25  V25     51590 non-null  float64\n",
            " 26  V26     51590 non-null  float64\n",
            " 27  V27     51590 non-null  float64\n",
            " 28  V28     51590 non-null  float64\n",
            " 29  Amount  51590 non-null  float64\n",
            " 30  Class   51590 non-null  float64\n",
            "dtypes: float64(30), int64(1)\n",
            "memory usage: 12.2 MB\n"
          ]
        }
      ]
    },
    {
      "cell_type": "code",
      "source": [
        "# Get statistical summary of numerical columns\n",
        "print(\"\\n--- Statistical Summary ---\")\n",
        "print(df.describe())"
      ],
      "metadata": {
        "colab": {
          "base_uri": "https://localhost:8080/"
        },
        "id": "W8L4LVQp0BvO",
        "outputId": "b14251c3-64ed-43d7-80a3-fba12d98116d"
      },
      "execution_count": 4,
      "outputs": [
        {
          "output_type": "stream",
          "name": "stdout",
          "text": [
            "\n",
            "--- Statistical Summary ---\n",
            "               Time            V1            V2            V3            V4  \\\n",
            "count  51591.000000  51591.000000  51591.000000  51591.000000  51591.000000   \n",
            "mean   29408.888120     -0.244221      0.003887      0.691974      0.183611   \n",
            "std    13196.047307      1.887998      1.641193      1.498371      1.398830   \n",
            "min        0.000000    -56.407510    -72.715728    -32.965346     -5.172595   \n",
            "25%    22655.500000     -0.993823     -0.570329      0.215237     -0.723584   \n",
            "50%    33767.000000     -0.246892      0.075692      0.793662      0.190588   \n",
            "75%    39498.000000      1.154831      0.731302      1.429386      1.066994   \n",
            "max    45026.000000      1.960497     18.183626      4.101716     16.491217   \n",
            "\n",
            "                 V5            V6            V7            V8            V9  \\\n",
            "count  51591.000000  51591.000000  51591.000000  51591.000000  51591.000000   \n",
            "mean      -0.259039      0.104715     -0.120474      0.054468      0.108449   \n",
            "std        1.413486      1.312673      1.278442      1.216566      1.208872   \n",
            "min      -42.147898    -26.160506    -26.548144    -41.484823     -9.283925   \n",
            "25%       -0.871680     -0.634868     -0.606774     -0.146407     -0.622868   \n",
            "50%       -0.290140     -0.150447     -0.077622      0.059086     -0.000482   \n",
            "75%        0.282184      0.495847      0.424977      0.333436      0.800723   \n",
            "max       34.801666     22.529298     36.677268     20.007208     10.392889   \n",
            "\n",
            "       ...           V21           V22           V23           V24  \\\n",
            "count  ...  51590.000000  51590.000000  51590.000000  51590.000000   \n",
            "mean   ...     -0.028862     -0.106634     -0.039418      0.007995   \n",
            "std    ...      0.732046      0.636907      0.592622      0.595768   \n",
            "min    ...    -20.262054     -8.593642    -26.751119     -2.836627   \n",
            "25%    ...     -0.230767     -0.528352     -0.178719     -0.322127   \n",
            "50%    ...     -0.067054     -0.081866     -0.051550      0.062606   \n",
            "75%    ...      0.108996      0.307826      0.078873      0.401672   \n",
            "max    ...     22.614889      5.805795     17.297845      4.014444   \n",
            "\n",
            "                V25           V26           V27           V28        Amount  \\\n",
            "count  51590.000000  51590.000000  51590.000000  51590.000000  51590.000000   \n",
            "mean       0.135556      0.020305      0.004140      0.003987     94.014363   \n",
            "std        0.438858      0.500884      0.389621      0.332373    253.518524   \n",
            "min       -7.495741     -1.577118     -8.567638     -9.617915      0.000000   \n",
            "25%       -0.128074     -0.330665     -0.063502     -0.006740      7.680000   \n",
            "50%        0.174933     -0.072844      0.008875      0.022241     25.345000   \n",
            "75%        0.421984      0.299365      0.083277      0.076230     86.160000   \n",
            "max        5.525093      3.517346     11.135740     33.847808  12910.930000   \n",
            "\n",
            "              Class  \n",
            "count  51590.000000  \n",
            "mean       0.002908  \n",
            "std        0.053844  \n",
            "min        0.000000  \n",
            "25%        0.000000  \n",
            "50%        0.000000  \n",
            "75%        0.000000  \n",
            "max        1.000000  \n",
            "\n",
            "[8 rows x 31 columns]\n"
          ]
        }
      ]
    },
    {
      "cell_type": "code",
      "source": [
        "# Count the number of transactions for each class\n",
        "print(\"\\n--- Class Distribution ---\")\n",
        "print(df['Class'].value_counts())\n",
        "\n",
        "# Calculate the percentage of fraudulent transactions\n",
        "fraud_count = df['Class'].value_counts()[1]\n",
        "total_count = len(df)\n",
        "fraud_percentage = (fraud_count / total_count) * 100\n",
        "print(f\"\\nFraudulent transactions make up {fraud_percentage:.4f}% of the total.\")\n",
        "\n",
        "# Visualize the class distribution\n",
        "plt.figure(figsize=(8, 6))\n",
        "sns.countplot(x='Class', data=df)\n",
        "plt.title('Class Distribution (0: Non-Fraud, 1: Fraud)')\n",
        "plt.xlabel('Class')\n",
        "plt.ylabel('Number of Transactions')\n",
        "plt.show()"
      ],
      "metadata": {
        "colab": {
          "base_uri": "https://localhost:8080/",
          "height": 638
        },
        "id": "qx-_9nxU0D3t",
        "outputId": "e14f55b0-695a-4e98-cebe-c8aaf0573870"
      },
      "execution_count": 5,
      "outputs": [
        {
          "output_type": "stream",
          "name": "stdout",
          "text": [
            "\n",
            "--- Class Distribution ---\n",
            "Class\n",
            "0.0    51440\n",
            "1.0      150\n",
            "Name: count, dtype: int64\n",
            "\n",
            "Fraudulent transactions make up 0.2907% of the total.\n"
          ]
        },
        {
          "output_type": "display_data",
          "data": {
            "text/plain": [
              "<Figure size 800x600 with 1 Axes>"
            ],
            "image/png": "[encoded data removed]"
          },
          "metadata": {}
        }
      ]
    },
    {
      "cell_type": "code",
      "source": [
        "fig, (ax1, ax2) = plt.subplots(ncols=2, figsize=(15, 6))\n",
        "\n",
        "# Time distribution by Class\n",
        "sns.histplot(df[df['Class'] == 0]['Time'], bins=48, ax=ax1, color='blue', kde=True, label='Non-Fraud')\n",
        "sns.histplot(df[df['Class'] == 1]['Time'], bins=48, ax=ax1, color='red', kde=True, label='Fraud')\n",
        "ax1.set_title('Transaction Time Distribution by Class')\n",
        "ax1.set_xlabel('Time (in seconds from first transaction)')\n",
        "ax1.set_ylabel('Number of Transactions')\n",
        "ax1.legend()\n",
        "\n",
        "# Amount distribution by Class\n",
        "sns.histplot(df[df['Class'] == 0]['Amount'], bins=50, ax=ax2, color='blue', kde=True, label='Non-Fraud')\n",
        "sns.histplot(df[df['Class'] == 1]['Amount'], bins=50, ax=ax2, color='red', kde=True, label='Fraud')\n",
        "ax2.set_title('Transaction Amount Distribution by Class')\n",
        "ax2.set_xlabel('Amount')\n",
        "ax2.set_ylabel('Number of Transactions')\n",
        "ax2.legend()\n",
        "plt.tight_layout()\n",
        "plt.show()"
      ],
      "metadata": {
        "colab": {
          "base_uri": "https://localhost:8080/",
          "height": 266
        },
        "id": "iurUU1m50UfA",
        "outputId": "7861feaa-cef2-4fa8-948e-93209ac21f1a"
      },
      "execution_count": 6,
      "outputs": [
        {
          "output_type": "display_data",
          "data": {
            "text/plain": [
              "<Figure size 1500x600 with 2 Axes>"
            ],
            "image/png": "[encoded data removed]"
          },
          "metadata": {}
        }
      ]
    },
    {
      "cell_type": "markdown",
      "source": [
        "**Phase 3: Data Preprocessing**\n"
      ],
      "metadata": {
        "id": "kP4MnJ-x0hoO"
      }
    },
    {
      "cell_type": "code",
      "source": [
        "# Import the StandardScaler from scikit-learn\n",
        "from sklearn.preprocessing import StandardScaler\n",
        "\n",
        "# Create an instance of the StandardScaler\n",
        "scaler = StandardScaler()\n",
        "\n",
        "# Scale the 'Amount' and 'Time' columns\n",
        "df['scaled_amount'] = scaler.fit_transform(df['Amount'].values.reshape(-1, 1))\n",
        "df['scaled_time'] = scaler.fit_transform(df['Time'].values.reshape(-1, 1))\n",
        "\n",
        "# Drop the original 'Time' and 'Amount' columns as they are no longer needed\n",
        "df.drop(['Time', 'Amount'], axis=1, inplace=True)\n",
        "\n",
        "# Reorder the columns to place our new scaled features at the front\n",
        "scaled_features = df['scaled_amount']\n",
        "scaled_time = df['scaled_time']\n",
        "\n",
        "df.drop(['scaled_amount', 'scaled_time'], axis=1, inplace=True)\n",
        "df.insert(0, 'scaled_amount', scaled_features)\n",
        "df.insert(1, 'scaled_time', scaled_time)\n",
        "\n",
        "# Display the first few rows to confirm the changes\n",
        "print(\"--- DataFrame after Scaling ---\")\n",
        "print(df.head())"
      ],
      "metadata": {
        "colab": {
          "base_uri": "https://localhost:8080/"
        },
        "id": "Sce0f3EL0jAe",
        "outputId": "b23c4eb7-8b2a-4ee7-fe73-3347fb26fbe6"
      },
      "execution_count": 7,
      "outputs": [
        {
          "output_type": "stream",
          "name": "stdout",
          "text": [
            "--- DataFrame after Scaling ---\n",
            "   scaled_amount  scaled_time        V1        V2        V3        V4  \\\n",
            "0       0.219338    -2.228635 -1.359807 -0.072781  2.536347  1.378155   \n",
            "1      -0.360231    -2.228635  1.191857  0.266151  0.166480  0.448154   \n",
            "2       1.122791    -2.228559 -1.358354 -1.340163  1.773209  0.379780   \n",
            "3       0.116307    -2.228559 -0.966272 -0.185226  1.792993 -0.863291   \n",
            "4      -0.094765    -2.228483 -1.158233  0.877737  1.548718  0.403034   \n",
            "\n",
            "         V5        V6        V7        V8  ...       V20       V21       V22  \\\n",
            "0 -0.338321  0.462388  0.239599  0.098698  ...  0.251412 -0.018307  0.277838   \n",
            "1  0.060018 -0.082361 -0.078803  0.085102  ... -0.069083 -0.225775 -0.638672   \n",
            "2 -0.503198  1.800499  0.791461  0.247676  ...  0.524980  0.247998  0.771679   \n",
            "3 -0.010309  1.247203  0.237609  0.377436  ... -0.208038 -0.108300  0.005274   \n",
            "4 -0.407193  0.095921  0.592941 -0.270533  ...  0.408542 -0.009431  0.798278   \n",
            "\n",
            "        V23       V24       V25       V26       V27       V28  Class  \n",
            "0 -0.110474  0.066928  0.128539 -0.189115  0.133558 -0.021053    0.0  \n",
            "1  0.101288 -0.339846  0.167170  0.125895 -0.008983  0.014724    0.0  \n",
            "2  0.909412 -0.689281 -0.327642 -0.139097 -0.055353 -0.059752    0.0  \n",
            "3 -0.190321 -1.175575  0.647376 -0.221929  0.062723  0.061458    0.0  \n",
            "4 -0.137458  0.141267 -0.206010  0.502292  0.219422  0.215153    0.0  \n",
            "\n",
            "[5 rows x 31 columns]\n"
          ]
        }
      ]
    },
    {
      "cell_type": "code",
      "source": [
        "from sklearn.model_selection import train_test_split\n",
        "\n",
        "# Remove rows with missing values\n",
        "df.dropna(inplace=True)\n",
        "\n",
        "# Define our features (X) and target (y)\n",
        "X = df.drop('Class', axis=1) # All columns except 'Class'\n",
        "y = df['Class']             # The 'Class' column\n",
        "\n",
        "# Split the data into training and testing sets\n",
        "X_train, X_test, y_train, y_test = train_test_split(X, y, test_size=0.2, random_state=42, stratify=y)"
      ],
      "metadata": {
        "id": "djdALlE80o1u"
      },
      "execution_count": 9,
      "outputs": []
    },
    {
      "cell_type": "code",
      "source": [
        "from imblearn.under_sampling import RandomUnderSampler\n",
        "\n",
        "# Get the number of fraudulent transactions in the training set\n",
        "fraud_count = y_train.value_counts()[1]\n",
        "\n",
        "# Create an undersampler instance\n",
        "rus = RandomUnderSampler(sampling_strategy='majority', random_state=42)\n",
        "\n",
        "# Apply undersampling to the training data\n",
        "X_train_resampled, y_train_resampled = rus.fit_resample(X_train, y_train)\n",
        "\n",
        "# Print the new class distribution\n",
        "print(\"\\n--- Class Distribution after Undersampling ---\")\n",
        "print(y_train_resampled.value_counts())"
      ],
      "metadata": {
        "colab": {
          "base_uri": "https://localhost:8080/"
        },
        "id": "Q6zthm3p0s6t",
        "outputId": "ae41c028-6962-4c90-9839-e02f6a532ddb"
      },
      "execution_count": 10,
      "outputs": [
        {
          "output_type": "stream",
          "name": "stdout",
          "text": [
            "\n",
            "--- Class Distribution after Undersampling ---\n",
            "Class\n",
            "0.0    120\n",
            "1.0    120\n",
            "Name: count, dtype: int64\n"
          ]
        }
      ]
    },
    {
      "cell_type": "markdown",
      "source": [
        "**Phase 4: Model Building and Evaluation**\n"
      ],
      "metadata": {
        "id": "feN0fgNM1Num"
      }
    },
    {
      "cell_type": "code",
      "source": [
        "# Import necessary classifiers from scikit-learn\n",
        "from sklearn.linear_model import LogisticRegression\n",
        "from sklearn.tree import DecisionTreeClassifier\n",
        "from sklearn.ensemble import RandomForestClassifier\n",
        "\n",
        "# Create instances of the classifiers\n",
        "log_reg = LogisticRegression(solver='liblinear', random_state=42)\n",
        "dtree = DecisionTreeClassifier(random_state=42)\n",
        "rfc = RandomForestClassifier(n_estimators=100, random_state=42)\n",
        "\n",
        "# Dictionary to hold our models for easy iteration\n",
        "models = {'Logistic Regression': log_reg, 'Decision Tree': dtree, 'Random Forest': rfc}\n",
        "\n",
        "# Train each model\n",
        "for name, model in models.items():\n",
        "    print(f\"Training {name}...\")\n",
        "    model.fit(X_train_resampled, y_train_resampled)\n",
        "    print(f\"{name} trained successfully.\\n\")"
      ],
      "metadata": {
        "colab": {
          "base_uri": "https://localhost:8080/"
        },
        "id": "V5DW5LzO1PZ2",
        "outputId": "7d62e22c-525a-4d46-8568-7e9cbe051225"
      },
      "execution_count": 11,
      "outputs": [
        {
          "output_type": "stream",
          "name": "stdout",
          "text": [
            "Training Logistic Regression...\n",
            "Logistic Regression trained successfully.\n",
            "\n",
            "Training Decision Tree...\n",
            "Decision Tree trained successfully.\n",
            "\n",
            "Training Random Forest...\n",
            "Random Forest trained successfully.\n",
            "\n"
          ]
        }
      ]
    },
    {
      "cell_type": "code",
      "source": [
        "from sklearn.metrics import confusion_matrix, precision_score, recall_score, f1_score\n",
        "\n",
        "# Evaluate each model on the original, imbalanced test set\n",
        "for name, model in models.items():\n",
        "    print(f\"--- Evaluating {name} ---\")\n",
        "    y_pred = model.predict(X_test)\n",
        "\n",
        "    # Print the Confusion Matrix\n",
        "    cm = confusion_matrix(y_test, y_pred)\n",
        "    print(\"Confusion Matrix:\\n\", cm)\n",
        "\n",
        "\n",
        "    # Calculate and print the evaluation metrics\n",
        "    precision = precision_score(y_test, y_pred)\n",
        "    recall = recall_score(y_test, y_pred)\n",
        "    f1 = f1_score(y_test, y_pred)\n",
        "\n",
        "    print(f\"Precision: {precision:.4f}\")\n",
        "    print(f\"Recall:    {recall:.4f}\")\n",
        "    print(f\"F1-Score:  {f1:.4f}\\n\")"
      ],
      "metadata": {
        "colab": {
          "base_uri": "https://localhost:8080/"
        },
        "id": "d0oXCola1bT-",
        "outputId": "7068738f-545f-44f4-8d38-bca46df0d8b3"
      },
      "execution_count": 12,
      "outputs": [
        {
          "output_type": "stream",
          "name": "stdout",
          "text": [
            "--- Evaluating Logistic Regression ---\n",
            "Confusion Matrix:\n",
            " [[9993  295]\n",
            " [   0   30]]\n",
            "Precision: 0.0923\n",
            "Recall:    1.0000\n",
            "F1-Score:  0.1690\n",
            "\n",
            "--- Evaluating Decision Tree ---\n",
            "Confusion Matrix:\n",
            " [[9498  790]\n",
            " [   1   29]]\n",
            "Precision: 0.0354\n",
            "Recall:    0.9667\n",
            "F1-Score:  0.0683\n",
            "\n",
            "--- Evaluating Random Forest ---\n",
            "Confusion Matrix:\n",
            " [[10143   145]\n",
            " [    1    29]]\n",
            "Precision: 0.1667\n",
            "Recall:    0.9667\n",
            "F1-Score:  0.2843\n",
            "\n"
          ]
        }
      ]
    },
    {
      "cell_type": "markdown",
      "source": [
        "**Phase 5: Model Improvement and Conclusion**\n"
      ],
      "metadata": {
        "id": "oHVNSlzH1rH_"
      }
    },
    {
      "cell_type": "code",
      "source": [
        "# Import GridSearchCV\n",
        "from sklearn.model_selection import GridSearchCV\n",
        "\n",
        "# Define the parameter grid for Random Forest\n",
        "param_grid = {\n",
        "    'n_estimators': [50, 100, 200],  # Number of trees in the forest\n",
        "    'max_depth': [10, 20, None],     # Max number of levels in each tree\n",
        "    'min_samples_split': [2, 5, 10]  # Min number of data points to split a node\n",
        "}\n",
        "\n",
        "# Create a GridSearchCV instance with our Random Forest model\n",
        "grid_search = GridSearchCV(estimator=rfc, param_grid=param_grid, cv=5, scoring='f1', n_jobs=-1)\n",
        "\n",
        "# Fit the grid search to our resampled training data\n",
        "grid_search.fit(X_train_resampled, y_train_resampled)\n",
        "\n",
        "# Print the best parameters and the best F1 score\n",
        "print(\"Best parameters found: \", grid_search.best_params_)\n",
        "print(\"Best F1 score found: {:.4f}\".format(grid_search.best_score_))\n",
        "\n",
        "# Get the best model\n",
        "best_rfc = grid_search.best_estimator_"
      ],
      "metadata": {
        "colab": {
          "base_uri": "https://localhost:8080/"
        },
        "id": "dzTDVP9M1s8H",
        "outputId": "843fae5a-5692-4f58-bd40-b15436cfbf5f"
      },
      "execution_count": 13,
      "outputs": [
        {
          "output_type": "stream",
          "name": "stdout",
          "text": [
            "Best parameters found:  {'max_depth': 10, 'min_samples_split': 5, 'n_estimators': 100}\n",
            "Best F1 score found: 0.9646\n"
          ]
        }
      ]
    },
    {
      "cell_type": "markdown",
      "source": [
        "**Final Evaluation with the Tuned Model**"
      ],
      "metadata": {
        "id": "qaqRpbvL166Y"
      }
    },
    {
      "cell_type": "code",
      "source": [
        "from sklearn.metrics import classification_report\n",
        "\n",
        "# Make predictions on the original test set with the best model\n",
        "y_pred_tuned = best_rfc.predict(X_test)\n",
        "\n",
        "# Print the final classification report\n",
        "print(\"\\n--- Final Classification Report for the Tuned Model ---\")\n",
        "print(classification_report(y_test, y_pred_tuned))"
      ],
      "metadata": {
        "colab": {
          "base_uri": "https://localhost:8080/"
        },
        "id": "TdwaWzR418Yo",
        "outputId": "9064ab58-e52d-4308-ce24-cb3f7539cc8f"
      },
      "execution_count": 14,
      "outputs": [
        {
          "output_type": "stream",
          "name": "stdout",
          "text": [
            "\n",
            "--- Final Classification Report for the Tuned Model ---\n",
            "              precision    recall  f1-score   support\n",
            "\n",
            "         0.0       1.00      0.98      0.99     10288\n",
            "         1.0       0.15      0.97      0.26        30\n",
            "\n",
            "    accuracy                           0.98     10318\n",
            "   macro avg       0.58      0.98      0.63     10318\n",
            "weighted avg       1.00      0.98      0.99     10318\n",
            "\n"
          ]
        }
      ]
    },
    {
      "cell_type": "markdown",
      "source": [
        "**Saving the Final Model**"
      ],
      "metadata": {
        "id": "Ufgl-bEH2CU3"
      }
    },
    {
      "cell_type": "code",
      "source": [
        "import joblib\n",
        "\n",
        "# Save the best model to a file\n",
        "joblib.dump(best_rfc, 'best_fraud_detection_model.pkl')\n",
        "print(\"\\nFinal model saved as 'best_fraud_detection_model.pkl'\")\n",
        "\n",
        "# To load the model later:\n",
        "# loaded_model = joblib.load('best_fraud_detection_model.pkl')"
      ],
      "metadata": {
        "colab": {
          "base_uri": "https://localhost:8080/"
        },
        "id": "Hw6xe0m42D0Y",
        "outputId": "3fa4e804-8901-4b7a-9d4d-cb6048a99b3e"
      },
      "execution_count": 15,
      "outputs": [
        {
          "output_type": "stream",
          "name": "stdout",
          "text": [
            "\n",
            "Final model saved as 'best_fraud_detection_model.pkl'\n"
          ]
        }
      ]
    }
  ]
}